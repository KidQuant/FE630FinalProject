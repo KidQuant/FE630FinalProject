{
 "cells": [
  {
   "cell_type": "code",
   "execution_count": 42,
   "metadata": {},
   "outputs": [],
   "source": [
    "import numpy as np\n",
    "import pandas as pd\n",
    "import yfinance as yf\n",
    "import statsmodels.api as sm"
   ]
  },
  {
   "cell_type": "code",
   "execution_count": 43,
   "metadata": {},
   "outputs": [
    {
     "name": "stderr",
     "output_type": "stream",
     "text": [
      "[*********************100%***********************]  12 of 12 completed\n"
     ]
    }
   ],
   "source": [
    "etfs = ['FXE', 'EWJ', 'GLD', 'QQQ', 'SPY', 'SHV', 'DBA', 'USO', 'XBI', 'ILF', 'EPP', 'FEZ']\n",
    "etf_data = yf.download(etfs, start='2007-03-01', end='2024-12-31')['Close']\n",
    "\n",
    "\n",
    "etf_returns = etf_data.pct_change().dropna()"
   ]
  },
  {
   "cell_type": "code",
   "execution_count": 44,
   "metadata": {},
   "outputs": [
    {
     "data": {
      "text/html": [
       "<div>\n",
       "<style scoped>\n",
       "    .dataframe tbody tr th:only-of-type {\n",
       "        vertical-align: middle;\n",
       "    }\n",
       "\n",
       "    .dataframe tbody tr th {\n",
       "        vertical-align: top;\n",
       "    }\n",
       "\n",
       "    .dataframe thead th {\n",
       "        text-align: right;\n",
       "    }\n",
       "</style>\n",
       "<table border=\"1\" class=\"dataframe\">\n",
       "  <thead>\n",
       "    <tr style=\"text-align: right;\">\n",
       "      <th></th>\n",
       "      <th>Mkt-RF</th>\n",
       "      <th>SMB</th>\n",
       "      <th>HML</th>\n",
       "      <th>RF</th>\n",
       "    </tr>\n",
       "  </thead>\n",
       "  <tbody>\n",
       "    <tr>\n",
       "      <th>20070103</th>\n",
       "      <td>-0.04</td>\n",
       "      <td>0.00</td>\n",
       "      <td>0.18</td>\n",
       "      <td>0.022</td>\n",
       "    </tr>\n",
       "    <tr>\n",
       "      <th>20070104</th>\n",
       "      <td>0.16</td>\n",
       "      <td>0.22</td>\n",
       "      <td>-0.49</td>\n",
       "      <td>0.022</td>\n",
       "    </tr>\n",
       "    <tr>\n",
       "      <th>20070105</th>\n",
       "      <td>-0.73</td>\n",
       "      <td>-0.94</td>\n",
       "      <td>-0.28</td>\n",
       "      <td>0.022</td>\n",
       "    </tr>\n",
       "    <tr>\n",
       "      <th>20070108</th>\n",
       "      <td>0.24</td>\n",
       "      <td>-0.07</td>\n",
       "      <td>0.05</td>\n",
       "      <td>0.022</td>\n",
       "    </tr>\n",
       "    <tr>\n",
       "      <th>20070109</th>\n",
       "      <td>0.00</td>\n",
       "      <td>0.30</td>\n",
       "      <td>-0.30</td>\n",
       "      <td>0.022</td>\n",
       "    </tr>\n",
       "  </tbody>\n",
       "</table>\n",
       "</div>"
      ],
      "text/plain": [
       "          Mkt-RF   SMB   HML     RF\n",
       "20070103   -0.04  0.00  0.18  0.022\n",
       "20070104    0.16  0.22 -0.49  0.022\n",
       "20070105   -0.73 -0.94 -0.28  0.022\n",
       "20070108    0.24 -0.07  0.05  0.022\n",
       "20070109    0.00  0.30 -0.30  0.022"
      ]
     },
     "execution_count": 44,
     "metadata": {},
     "output_type": "execute_result"
    }
   ],
   "source": [
    "ff_factors = pd.read_csv('F-F_Research_Data_Factors_daily.CSV', skiprows=3, index_col=0)\n",
    "ff_factors.dropna(inplace=True)\n",
    "ff_factors.tail()\n",
    "ff_factors = ff_factors.loc['2007-03-01':]\n",
    "ff_factors.head()\n"
   ]
  },
  {
   "cell_type": "code",
   "execution_count": 49,
   "metadata": {},
   "outputs": [
    {
     "data": {
      "text/html": [
       "<div>\n",
       "<style scoped>\n",
       "    .dataframe tbody tr th:only-of-type {\n",
       "        vertical-align: middle;\n",
       "    }\n",
       "\n",
       "    .dataframe tbody tr th {\n",
       "        vertical-align: top;\n",
       "    }\n",
       "\n",
       "    .dataframe thead th {\n",
       "        text-align: right;\n",
       "    }\n",
       "</style>\n",
       "<table border=\"1\" class=\"dataframe\">\n",
       "  <thead>\n",
       "    <tr style=\"text-align: right;\">\n",
       "      <th></th>\n",
       "      <th>Mkt-RF</th>\n",
       "      <th>SMB</th>\n",
       "      <th>HML</th>\n",
       "      <th>RF</th>\n",
       "    </tr>\n",
       "  </thead>\n",
       "  <tbody>\n",
       "    <tr>\n",
       "      <th>2024-12-23</th>\n",
       "      <td>0.61</td>\n",
       "      <td>-0.70</td>\n",
       "      <td>-0.19</td>\n",
       "      <td>0.017</td>\n",
       "    </tr>\n",
       "    <tr>\n",
       "      <th>2024-12-24</th>\n",
       "      <td>1.11</td>\n",
       "      <td>-0.09</td>\n",
       "      <td>-0.05</td>\n",
       "      <td>0.017</td>\n",
       "    </tr>\n",
       "    <tr>\n",
       "      <th>2024-12-26</th>\n",
       "      <td>0.02</td>\n",
       "      <td>1.04</td>\n",
       "      <td>-0.19</td>\n",
       "      <td>0.017</td>\n",
       "    </tr>\n",
       "    <tr>\n",
       "      <th>2024-12-27</th>\n",
       "      <td>-1.17</td>\n",
       "      <td>-0.66</td>\n",
       "      <td>0.56</td>\n",
       "      <td>0.017</td>\n",
       "    </tr>\n",
       "    <tr>\n",
       "      <th>2024-12-30</th>\n",
       "      <td>-1.09</td>\n",
       "      <td>0.12</td>\n",
       "      <td>0.74</td>\n",
       "      <td>0.017</td>\n",
       "    </tr>\n",
       "  </tbody>\n",
       "</table>\n",
       "</div>"
      ],
      "text/plain": [
       "            Mkt-RF   SMB   HML     RF\n",
       "2024-12-23    0.61 -0.70 -0.19  0.017\n",
       "2024-12-24    1.11 -0.09 -0.05  0.017\n",
       "2024-12-26    0.02  1.04 -0.19  0.017\n",
       "2024-12-27   -1.17 -0.66  0.56  0.017\n",
       "2024-12-30   -1.09  0.12  0.74  0.017"
      ]
     },
     "execution_count": 49,
     "metadata": {},
     "output_type": "execute_result"
    }
   ],
   "source": [
    "ff_factors.tail()"
   ]
  },
  {
   "cell_type": "code",
   "execution_count": 48,
   "metadata": {},
   "outputs": [
    {
     "name": "stdout",
     "output_type": "stream",
     "text": [
      "Market Risk Premiums for each ETF:\n",
      "       Market Risk Premium\n",
      "Ticker                    \n",
      "DBA               0.000102\n",
      "EPP               0.000452\n",
      "EWJ               0.000332\n",
      "FEZ                0.00048\n",
      "FXE               0.000047\n",
      "GLD               0.000019\n",
      "ILF               0.000537\n",
      "QQQ               0.000439\n",
      "SHV              -0.000001\n",
      "SPY               0.000417\n",
      "USO               0.000294\n",
      "XBI                0.00045\n",
      "\n",
      "Market Betas:\n",
      "            Beta\n",
      "Ticker          \n",
      "DBA     0.002379\n",
      "EPP     0.010523\n",
      "EWJ     0.007733\n",
      "FEZ     0.011182\n",
      "FXE     0.001094\n",
      "GLD     0.000448\n",
      "ILF     0.012523\n",
      "QQQ     0.010224\n",
      "SHV    -0.000031\n",
      "SPY     0.009721\n",
      "USO     0.006845\n",
      "XBI     0.010491\n"
     ]
    }
   ],
   "source": [
    "etf_returns = etf_data.pct_change().dropna()\n",
    "\n",
    "# Convert ff_factors index to datetime if it's not already\n",
    "ff_factors.index = pd.to_datetime(ff_factors.index, format='%Y%m%d')\n",
    "\n",
    "# Align the data\n",
    "etf_returns = etf_returns.reindex(ff_factors.index).dropna()\n",
    "ff_factors = ff_factors.reindex(etf_returns.index).dropna()\n",
    "\n",
    "# Create merged data\n",
    "merged_data = pd.concat([etf_returns, ff_factors], axis=1)\n",
    "\n",
    "# Run regression for each ETF using only the market factor\n",
    "X = sm.add_constant(merged_data['Mkt-RF'])\n",
    "\n",
    "for etf in etf_returns.columns:\n",
    "    y = merged_data[etf]\n",
    "    # Run regression\n",
    "    model = sm.OLS(y, X).fit()\n",
    "    # Calculate market risk premium\n",
    "    beta = model.params['Mkt-RF']\n",
    "    avg_market_return = merged_data['Mkt-RF'].mean()\n",
    "    market_risk_premium = beta * avg_market_return\n",
    "    market_risk_premiums.loc[etf, 'Market Risk Premium'] = market_risk_premium\n",
    "\n",
    "# Display results\n",
    "print(\"Market Risk Premiums for each ETF:\")\n",
    "print(market_risk_premiums.round(4))\n",
    "\n",
    "# Display the betas and average market return for reference\n",
    "print(\"\\nMarket Betas:\")\n",
    "betas = pd.DataFrame(index=etf_returns.columns, columns=['Beta'])\n",
    "for etf in etf_returns.columns:\n",
    "    y = merged_data[etf]\n",
    "    model = sm.OLS(y, X).fit()\n",
    "    betas.loc[etf, 'Beta'] = model.params['Mkt-RF']\n",
    "print(betas.round(4))\n",
    "\n",
    "\n",
    "# %%\n",
    "\n"
   ]
  },
  {
   "cell_type": "markdown",
   "metadata": {},
   "source": [
    "\n",
    "$$\n",
    "\\text{(Strategy I)}\n",
    "\\begin{cases}\n",
    "\\underset{\\omega\\in\\mathbb{R}^n}{\\max\\;}\\rho^T \\omega-\\lambda\\sqrt{\\omega^T \\Sigma\\omega}\\\\\n",
    "-0.5\\leq\\sum_{i=1}^{n}\\beta_i^m\\omega_i\\leq 0.5\\\\\n",
    "\\sum_{i=1}^{n}\\omega_i=1,\\; -2\\leq\\omega_i\\leq 2,\n",
    "\\end{cases}\n",
    "$$"
   ]
  },
  {
   "cell_type": "code",
   "execution_count": null,
   "metadata": {},
   "outputs": [],
   "source": [
    "def strategy_I(expectedReturns, covMatrix, f)"
   ]
  }
 ],
 "metadata": {
  "kernelspec": {
   "display_name": "FE630Project",
   "language": "python",
   "name": "python3"
  },
  "language_info": {
   "codemirror_mode": {
    "name": "ipython",
    "version": 3
   },
   "file_extension": ".py",
   "mimetype": "text/x-python",
   "name": "python",
   "nbconvert_exporter": "python",
   "pygments_lexer": "ipython3",
   "version": "3.11.7"
  }
 },
 "nbformat": 4,
 "nbformat_minor": 2
}
